{
 "cells": [
  {
   "cell_type": "code",
   "execution_count": 1,
   "metadata": {},
   "outputs": [],
   "source": [
    "import pandas as pd \n",
    "import numpy as np\n",
    "import matplotlib.pyplot as plt\n",
    "import seaborn as sb"
   ]
  },
  {
   "cell_type": "code",
   "execution_count": 8,
   "metadata": {
    "scrolled": true
   },
   "outputs": [
    {
     "name": "stdout",
     "output_type": "stream",
     "text": [
      "N     99\n",
      "HS    18\n",
      "FS    17\n",
      "LW    15\n",
      "Name: ReleaseTime, dtype: int64\n"
     ]
    }
   ],
   "source": [
    "data=pd.read_csv('///home/ishaan/rugvedtaskphase/bollywood.csv')\n",
    "data.drop_duplicates(subset='ReleaseTime')\n",
    "replacedata={\n",
    "    \"LW\":\"1\",\n",
    "    \"N\":\"2\",\n",
    "    \"HS\":\"3\",\n",
    "    \"FS\":\"4\"\n",
    "}\n",
    "#data= data.replace({\"ReleaseTime\": replacedata})\n",
    "frequency = data['ReleaseTime'].value_counts()\n",
    "frequency.sort_values(ascending=False)\n",
    "print(frequency)"
   ]
  },
  {
   "cell_type": "code",
   "execution_count": null,
   "metadata": {
    "scrolled": true
   },
   "outputs": [],
   "source": [
    "print(data)"
   ]
  },
  {
   "cell_type": "code",
   "execution_count": null,
   "metadata": {},
   "outputs": [],
   "source": [
    "max= data.loc[(data['ReleaseTime']==\"FS\")].groupby(\"Genre\").size()\n",
    "print(max.idxmax())"
   ]
  },
  {
   "cell_type": "code",
   "execution_count": null,
   "metadata": {
    "scrolled": true
   },
   "outputs": [],
   "source": [
    "cols = ['ReleaseTime', 'Genre']\n",
    "data.groupby(cols)[cols].count()"
   ]
  },
  {
   "cell_type": "code",
   "execution_count": null,
   "metadata": {},
   "outputs": [],
   "source": [
    "data['year'] = pd.DatetimeIndex(data['Release Date']).year\n",
    "frequency = data['year'].value_counts()\n",
    "print(frequency)"
   ]
  },
  {
   "cell_type": "code",
   "execution_count": null,
   "metadata": {},
   "outputs": [],
   "source": [
    "data['month'] = pd.DatetimeIndex(data['Release Date']).month\n",
    "money= data.loc[(data['Budget']>=30)].groupby(\"month\").size().sort_values(ascending=False)\n",
    "print(money.idxmax())\n"
   ]
  },
  {
   "cell_type": "code",
   "execution_count": null,
   "metadata": {},
   "outputs": [],
   "source": [
    "data['roi']=(data['BoxOfficeCollection']-data['Budget'])/data['Budget']\n",
    "rich=data.groupby(\"ReleaseTime\")\n",
    "m=rich['roi'].mean().sort_values(ascending=False)\n",
    "print(m.idxmax())"
   ]
  },
  {
   "cell_type": "code",
   "execution_count": null,
   "metadata": {},
   "outputs": [],
   "source": [
    "rel= data[\"BoxOfficeCollection\"]. corr(data[\"YoutubeLikes\"])\n",
    "print(rel)"
   ]
  },
  {
   "cell_type": "code",
   "execution_count": null,
   "metadata": {
    "scrolled": true
   },
   "outputs": [],
   "source": [
    "data.boxplot(by ='Genre', column =['YoutubeViews'], grid = True)"
   ]
  },
  {
   "cell_type": "code",
   "execution_count": null,
   "metadata": {},
   "outputs": [],
   "source": [
    "heatmap= sb.heatmap(data[['Budget', 'BoxOfficeCollection', 'YoutubeViews', 'YoutubeLikes', 'YoutubeDislikes']].corr(), cmap=\"PiYG\", annot=True)\n",
    "heatmap.plot()"
   ]
  },
  {
   "cell_type": "code",
   "execution_count": null,
   "metadata": {},
   "outputs": [],
   "source": [
    "f= data.groupby(\"Genre\")\n",
    "g = f['BoxOfficeCollection'].sum().reset_index(name='boc')\n",
    "x=g['boc']\n",
    "y= g.index\n",
    "m, b = np.polyfit(x, y, 1)\n",
    "plt.plot(x, m*x + b)"
   ]
  },
  {
   "cell_type": "code",
   "execution_count": null,
   "metadata": {},
   "outputs": [],
   "source": [
    "c = data.groupby(\"year\")\n",
    "d = c.size().reset_index(name=\"MoviesCount\")\n",
    "\n",
    "x=d['year']\n",
    "y=d['MoviesCount']\n",
    "m, b = np.polyfit(x, y, 1)\n",
    "plt.plot(x, m*x + b)"
   ]
  },
  {
   "cell_type": "code",
   "execution_count": null,
   "metadata": {},
   "outputs": [],
   "source": [
    "c = data.groupby(\"Genre\")\n",
    "d = c['BoxOfficeCollection'].sum().reset_index(name='boc')\n",
    "x = d[\"Genre\"]\n",
    "y = d[\"boc\"]\n",
    "plt.bar(x,y)"
   ]
  },
  {
   "cell_type": "code",
   "execution_count": null,
   "metadata": {
    "scrolled": false
   },
   "outputs": [],
   "source": [
    "c = data.groupby(\"year\")\n",
    "d = c['YoutubeLikes'].sum().reset_index(name='tot')\n",
    "y=d['tot']\n",
    "x= d.year\n",
    "plt.scatter(x, y)\n",
    "m, b = np.polyfit(x, y, 1)\n",
    "plt.plot(x, m*x + b , color='green' , linewidth=3.5)\n",
    "\n",
    "\n",
    "d = c['YoutubeDislikes'].sum().reset_index(name='totd')\n",
    "z=d['totd']\n",
    "plt.scatter(x, z)\n",
    "m, b = np.polyfit(x, z, 1)\n",
    "plt.plot(x , m*x + b , color='red', linewidth=3.5 )\n",
    "\n",
    "plt.xlabel(\"Year Movie Released\")\n",
    "plt.ylabel(\"Youtube Likes(green) & Disikes(red)\")\n"
   ]
  }
 ],
 "metadata": {
  "interpreter": {
   "hash": "916dbcbb3f70747c44a77c7bcd40155683ae19c65e1c03b4aa3499c5328201f1"
  },
  "kernelspec": {
   "display_name": "Python 3 (ipykernel)",
   "language": "python",
   "name": "python3"
  },
  "language_info": {
   "codemirror_mode": {
    "name": "ipython",
    "version": 3
   },
   "file_extension": ".py",
   "mimetype": "text/x-python",
   "name": "python",
   "nbconvert_exporter": "python",
   "pygments_lexer": "ipython3",
   "version": "3.8.10"
  }
 },
 "nbformat": 4,
 "nbformat_minor": 2
}
